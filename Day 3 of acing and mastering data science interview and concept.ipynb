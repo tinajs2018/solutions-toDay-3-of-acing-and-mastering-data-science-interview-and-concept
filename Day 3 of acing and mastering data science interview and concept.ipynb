{
 "cells": [
  {
   "cell_type": "markdown",
   "metadata": {},
   "source": [
    "1 Let’s say that your company is running a standard control and variant AB test on a feature to increase conversion rates on the landing page. The PM checks the results and finds a .04 p-value. How would you assess the validity of the result?"
   ]
  },
  {
   "cell_type": "markdown",
   "metadata": {},
   "source": [
    "# solution\n",
    "NB this question is based on what the interview  has in mind  try to find out what their null and alternative hypothesis\n",
    "Ho :  Their increase  is conversion rates on the landing page  \n",
    "HI :  Their  is no increase  is conversion rates on the landing page  \n",
    "\n",
    "THe outcome is < 0.05 hence we  fail to reject the null hypothesis hence it shows Their increase  is conversion rates on the landing page  "
   ]
  },
  {
   "cell_type": "code",
   "execution_count": null,
   "metadata": {},
   "outputs": [],
   "source": [
    "2 Let’s say that you’re a data scientist at Robinhood. \n",
    "How do we measure the launch of Robinhood’s fractional shares program?"
   ]
  },
  {
   "cell_type": "markdown",
   "metadata": {},
   "source": [
    "#solution\n",
    "The primary metrics I will use are average number of orders per user per day, as well as average number of traders. At the same time we also want to know average order size — we don’t want to see average order number goes up but size go down, which could eventually leads to less revenue.\n",
    "If  the comapny only care about number of orders go up, then launch if conversion goes up. Also, take short/long-term tradeoff into account.\n"
   ]
  },
  {
   "cell_type": "markdown",
   "metadata": {},
   "source": [
    "3 Let’s say that you work for a software as a subscription (SAAS) company that has existed for just over a year. The chief revenue officer wants to know the average lifetime value.\n",
    "We know that the product costs 100 dollars per month, averages 10% in monthly churn, and the average customer sticks around for around 3.5 months.\n",
    "Calculate the formula for the average lifetime value."
   ]
  },
  {
   "cell_type": "code",
   "execution_count": null,
   "metadata": {},
   "outputs": [],
   "source": [
    "#solution\n",
    "\n",
    "CLV = (Transaction 1 + Transaction 2 + … + Last transaction) * Average gross margin.\n",
    "\n",
    "CLV=(100 +100 +100 +50)*10%\n",
    "\n",
    "CLV=35/2=17.5\n",
    "NB the solution is open for  debate"
   ]
  },
  {
   "cell_type": "markdown",
   "metadata": {},
   "source": [
    "4 We are looking into creating a new partner card (think Starbucks chase credit card or Whole Foods chase credit card). You have access to all of our customer spending data.\n",
    "How would you determine what our next partner card should be?"
   ]
  },
  {
   "cell_type": "markdown",
   "metadata": {},
   "source": [
    "# personal opinion \n",
    "I would look at the spending activities of the customers  and check for activities which has high transactions or are  frequent both one or many .Then make a decision based on that"
   ]
  },
  {
   "cell_type": "code",
   "execution_count": null,
   "metadata": {},
   "outputs": [],
   "source": [
    "Bonus :If you multiply a random variable by a negative number, say -a, what happens to its variance?"
   ]
  },
  {
   "cell_type": "markdown",
   "metadata": {},
   "source": [
    "#solution\n",
    "A variance cannot be negative. That's because it's mathematically impossible since you can't have a negative value resulting from a square."
   ]
  }
 ],
 "metadata": {
  "kernelspec": {
   "display_name": "Python 3",
   "language": "python",
   "name": "python3"
  },
  "language_info": {
   "codemirror_mode": {
    "name": "ipython",
    "version": 3
   },
   "file_extension": ".py",
   "mimetype": "text/x-python",
   "name": "python",
   "nbconvert_exporter": "python",
   "pygments_lexer": "ipython3",
   "version": "3.7.6"
  }
 },
 "nbformat": 4,
 "nbformat_minor": 4
}
